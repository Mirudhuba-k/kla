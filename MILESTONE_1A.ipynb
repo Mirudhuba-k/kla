{
  "nbformat": 4,
  "nbformat_minor": 0,
  "metadata": {
    "colab": {
      "name": "MILESTONE-1A.ipynb",
      "provenance": []
    },
    "kernelspec": {
      "name": "python3",
      "display_name": "Python 3"
    },
    "language_info": {
      "name": "python"
    }
  },
  "cells": [
    {
      "cell_type": "code",
      "execution_count": 1,
      "metadata": {
        "colab": {
          "base_uri": "https://localhost:8080/"
        },
        "id": "lE8n27t4o7J1",
        "outputId": "fe71022b-91a0-4fd0-d697-08751347b910"
      },
      "outputs": [
        {
          "output_type": "stream",
          "name": "stdout",
          "text": [
            "Requirement already satisfied: pyyaml in /usr/local/lib/python3.7/dist-packages (3.13)\n",
            "Requirement already satisfied: pyyaml in /usr/local/lib/python3.7/dist-packages (3.13)\n"
          ]
        }
      ],
      "source": [
        "! pip install pyyaml\n",
        "\n",
        "# magic function %pip\n",
        "% pip install pyyaml"
      ]
    },
    {
      "cell_type": "code",
      "source": [
        "from yaml.events import MappingStartEvent\n",
        "import yaml\n",
        "from yaml.loader import SafeLoader\n",
        "\n",
        "# Open the file and load the file\n",
        "with open('/content/Milestone1A.yaml') as f:\n",
        "    data1 = yaml.load(f, Loader=SafeLoader)\n",
        "    print(data1)"
      ],
      "metadata": {
        "colab": {
          "base_uri": "https://localhost:8080/"
        },
        "id": "OUBT2PXzqbrr",
        "outputId": "f824195d-5642-4b11-8ed1-c73df47d424d"
      },
      "execution_count": 2,
      "outputs": [
        {
          "output_type": "stream",
          "name": "stdout",
          "text": [
            "{'M1A_Workflow': {'Type': 'Flow', 'Execution': 'Sequential', 'Activities': {'TaskA': {'Type': 'Task', 'Function': 'TimeFunction', 'Inputs': {'FunctionInput': 'TaskA_Input', 'ExecutionTime': '1'}}, 'TaskB': {'Type': 'Task', 'Function': 'TimeFunction', 'Inputs': {'FunctionInput': 'TaskB_Input', 'ExecutionTime': '2'}}, 'FlowA': {'Type': 'Flow', 'Execution': 'Sequential', 'Activities': {'TaskC': {'Type': 'Task', 'Function': 'TimeFunction', 'Inputs': {'FunctionInput': 'TaskC_Input', 'ExecutionTime': '3'}}, 'TaskD': {'Type': 'Task', 'Function': 'TimeFunction', 'Inputs': {'FunctionInput': 'TaskD_Input', 'ExecutionTime': '4'}}}}}}}\n"
          ]
        }
      ]
    },
    {
      "cell_type": "code",
      "source": [
        "import time\n",
        "import threading\n",
        "import time\n",
        "import datetime\n",
        "import logging \n",
        "\n",
        "ct = datetime.datetime.now()\n",
        "\n",
        "def M1WorkFlow():\n",
        "  print(f\"{ct};M1WorkFlow Entry\")\n",
        "\n",
        "def TaskA():\n",
        "  print(f\"{ct};M1WorkFlow.TaskA Entry\")\n",
        "  print(f\"{ct};M1WorkFlow.TaskA Entry Executing time function (Task1_Input, 1)\")\n",
        "  print(f\"{ct};M1WorkFlow.TaskA Exit\")\n",
        "\n",
        "def TaskB():\n",
        "  print(f\"{ct};M1WorkFlow.TaskB Entry\")\n",
        "  print(f\"{ct};M1WorkFlow.TaskB Entry Executing time function (Task1_Input, 1)\")\n",
        "  print(f\"{ct};M1WorkFlow.TaskB Exit\")\n",
        "\n",
        "def Flow():\n",
        "  print(f\"{ct};M1WorkFlow.Flow Entry\")\n",
        "  TaskC()\n",
        "  TaskD()\n",
        "  print(f\"{ct};Flow Entry\")\n",
        "  print(f\"{ct};M1WorkFlow Exit\")\n",
        "\n",
        "\n",
        "def TaskC():\n",
        "  print(f\"{ct};M1WorkFlow.Flow.TaskC Entry\")\n",
        "  print(f\"{ct};M1WorkFlow.Flow.TaskC Entry Executing time function (Task1_Input, 1)\")\n",
        "  print(f\"{ct};M1WorkFlow.Flow.TaskC Exit\")\n",
        "\n",
        "def TaskD():\n",
        "  print(f\"{ct};M1WorkFlow.Flow.TaskD Entry\")\n",
        "  print(f\"{ct};M1WorkFlow.Flow.TaskD Entry Executing time function (Task1_Input, 1)\")\n",
        "  print(f\"{ct};M1WorkFlow.Flow.TaskD Exit\")\n",
        "\n",
        "logging.basicConfig(filename=\"std.log\", \n",
        "\t\t\t\t\tformat='%(asctime)s %(message)s', \n",
        "\t\t\t\t\tfilemode='w') \n",
        " \n",
        "logger=logging.getLogger() \n",
        "logger.setLevel(logging.DEBUG) \n",
        "\n",
        "logger.debug(M1WorkFlow) \n",
        "logger.debug(TaskA) \n",
        "logger.debug(TaskB) \n",
        "logger.debug(Flow) "
      ],
      "metadata": {
        "id": "PgFPyXrroGAN"
      },
      "execution_count": 19,
      "outputs": []
    },
    {
      "cell_type": "code",
      "source": [
        ""
      ],
      "metadata": {
        "id": "OdLmkmd0QqGb"
      },
      "execution_count": null,
      "outputs": []
    }
  ]
}